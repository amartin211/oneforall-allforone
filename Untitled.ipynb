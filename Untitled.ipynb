{
 "cells": [
  {
   "cell_type": "code",
   "execution_count": 2,
   "metadata": {},
   "outputs": [],
   "source": [
    "import numpy as np\n",
    "import math\n",
    "\n",
    "\n"
   ]
  },
  {
   "cell_type": "code",
   "execution_count": 9,
   "metadata": {},
   "outputs": [
    {
     "data": {
      "text/plain": [
       "8"
      ]
     },
     "execution_count": 9,
     "metadata": {},
     "output_type": "execute_result"
    }
   ],
   "source": [
    "# Exercice 1\n",
    "def nextpower(n):\n",
    "    return int(2**n)\n",
    "nextpower(3)"
   ]
  },
  {
   "cell_type": "code",
   "execution_count": 75,
   "metadata": {},
   "outputs": [
    {
     "name": "stdout",
     "output_type": "stream",
     "text": [
      "c\n",
      "f\n",
      "i\n",
      "l\n",
      "o\n",
      "r\n",
      "u\n",
      "x\n"
     ]
    }
   ],
   "source": [
    "#Exercice 2\n",
    "alpha = 'abcdefghijklmnopqrstuvwxyz'\n",
    "for i in range (2,len(alpha),3):\n",
    "    cut1 = str(alpha[i])\n",
    "    print(cut1)\n",
    "\n",
    "#cut2 = alpha[-5]+alpha[-3]+alpha[-1]\n",
    " "
   ]
  },
  {
   "cell_type": "code",
   "execution_count": 42,
   "metadata": {},
   "outputs": [
    {
     "data": {
      "text/plain": [
       "3.141592654"
      ]
     },
     "execution_count": 42,
     "metadata": {},
     "output_type": "execute_result"
    }
   ],
   "source": [
    "# Exercice 3\n",
    "import math\n",
    "\n",
    "round(math.pi,9)"
   ]
  },
  {
   "cell_type": "code",
   "execution_count": 45,
   "metadata": {},
   "outputs": [
    {
     "data": {
      "text/plain": [
       "Counter({'H': 1,\n",
       "         'e': 1,\n",
       "         'l': 1,\n",
       "         'L': 2,\n",
       "         'o': 2,\n",
       "         ' ': 1,\n",
       "         'W': 1,\n",
       "         'r': 1,\n",
       "         'd': 1,\n",
       "         '!': 2})"
      ]
     },
     "execution_count": 45,
     "metadata": {},
     "output_type": "execute_result"
    }
   ],
   "source": [
    "# Exercice 4\n",
    "from collections import Counter\n",
    "s=\"HelLo WorLd!!\"\n",
    "\n",
    "Counter(s)\n"
   ]
  },
  {
   "cell_type": "code",
   "execution_count": 61,
   "metadata": {},
   "outputs": [
    {
     "data": {
      "text/plain": [
       "[['r'],\n",
       " ['d'],\n",
       " ['m'],\n",
       " ['j'],\n",
       " ['g'],\n",
       " ['l'],\n",
       " ['i'],\n",
       " ['u'],\n",
       " ['a'],\n",
       " ['o'],\n",
       " ['s'],\n",
       " ['h'],\n",
       " ['k'],\n",
       " ['w'],\n",
       " ['c'],\n",
       " ['f'],\n",
       " ['t'],\n",
       " ['b'],\n",
       " ['z'],\n",
       " ['e'],\n",
       " ['y'],\n",
       " ['x'],\n",
       " ['p'],\n",
       " ['q'],\n",
       " ['n'],\n",
       " ['v']]"
      ]
     },
     "execution_count": 61,
     "metadata": {},
     "output_type": "execute_result"
    }
   ],
   "source": [
    "# Exercice 5\n",
    "from random import shuffle\n",
    "alpha = 'abcdefghijklmnopqrstuvwxyz'\n",
    "x = [[i] for i in (alpha)]\n",
    "shuffle(x)\n",
    "x"
   ]
  },
  {
   "cell_type": "code",
   "execution_count": 105,
   "metadata": {},
   "outputs": [
    {
     "ename": "IndentationError",
     "evalue": "unexpected indent (<ipython-input-105-7f5a50f9dfd4>, line 6)",
     "output_type": "error",
     "traceback": [
      "\u001b[0;36m  File \u001b[0;32m\"<ipython-input-105-7f5a50f9dfd4>\"\u001b[0;36m, line \u001b[0;32m6\u001b[0m\n\u001b[0;31m    final = 1\u001b[0m\n\u001b[0m    ^\u001b[0m\n\u001b[0;31mIndentationError\u001b[0m\u001b[0;31m:\u001b[0m unexpected indent\n"
     ]
    }
   ],
   "source": [
    "# Exercice 6\n",
    "\n",
    "import numpy as np\n",
    "#h.subs(_)\n",
    "def exo6 (k):\n",
    "        final = 1\n",
    "        for i in range(1000):\n",
    "            final *= (4*k**2)/(4*k**2-1)\n",
    "            return final\n",
    "\n",
    "s = np.array(range(k))*np.array(range(k)\n",
    "s"
   ]
  },
  {
   "cell_type": "code",
   "execution_count": 107,
   "metadata": {},
   "outputs": [
    {
     "ename": "IndentationError",
     "evalue": "expected an indented block (<ipython-input-107-b90a60e84d21>, line 8)",
     "output_type": "error",
     "traceback": [
      "\u001b[0;36m  File \u001b[0;32m\"<ipython-input-107-b90a60e84d21>\"\u001b[0;36m, line \u001b[0;32m8\u001b[0m\n\u001b[0;31m    TODO # pivot = last element of the list ll.\u001b[0m\n\u001b[0m                                                ^\u001b[0m\n\u001b[0;31mIndentationError\u001b[0m\u001b[0;31m:\u001b[0m expected an indented block\n"
     ]
    }
   ],
   "source": [
    "# Exercice 7\n",
    "\n",
    "def quicksort(ll):\n",
    "    \"\"\" a sorting algorithm with a pivot value\"\"\"\n",
    "    if len(ll) <= 1:\n",
    "       return ll\n",
    "    else:\n",
    "TODO # pivot = last element of the list ll. \n",
    "less = []\n",
    "greater = []\n",
    "for x in ll:\n",
    "if x <= pivot:\n",
    "\n",
    "less.\n",
    "# append 'x' to 'less'\n",
    "           else:\n",
    "              TODO # append 'x' to 'greater'\n",
    "       return TODO # concatenate quicksort(less), pivot and quicksort(greater)"
   ]
  },
  {
   "cell_type": "code",
   "execution_count": 119,
   "metadata": {},
   "outputs": [
    {
     "ename": "NameError",
     "evalue": "name 'k' is not defined",
     "output_type": "error",
     "traceback": [
      "\u001b[0;31m---------------------------------------------------------------------------\u001b[0m",
      "\u001b[0;31mNameError\u001b[0m                                 Traceback (most recent call last)",
      "\u001b[0;32m<ipython-input-119-5c9fade88cbe>\u001b[0m in \u001b[0;36m<module>\u001b[0;34m()\u001b[0m\n\u001b[1;32m      3\u001b[0m     \u001b[0ms\u001b[0m \u001b[0;34m=\u001b[0m \u001b[0mnp\u001b[0m\u001b[0;34m.\u001b[0m\u001b[0marray\u001b[0m\u001b[0;34m(\u001b[0m\u001b[0mrange\u001b[0m\u001b[0;34m(\u001b[0m\u001b[0mk\u001b[0m\u001b[0;34m)\u001b[0m\u001b[0;34m)\u001b[0m\u001b[0;34m*\u001b[0m\u001b[0mnp\u001b[0m\u001b[0;34m.\u001b[0m\u001b[0marray\u001b[0m\u001b[0;34m(\u001b[0m\u001b[0mrange\u001b[0m\u001b[0;34m(\u001b[0m\u001b[0mk\u001b[0m\u001b[0;34m)\u001b[0m\u001b[0;34m)\u001b[0m\u001b[0;34m\u001b[0m\u001b[0m\n\u001b[1;32m      4\u001b[0m     \u001b[0;32mreturn\u001b[0m \u001b[0ms\u001b[0m\u001b[0;34m\u001b[0m\u001b[0m\n\u001b[0;32m----> 5\u001b[0;31m \u001b[0mexo6bis\u001b[0m\u001b[0;34m(\u001b[0m\u001b[0mk\u001b[0m\u001b[0;34m)\u001b[0m\u001b[0;34m\u001b[0m\u001b[0m\n\u001b[0m",
      "\u001b[0;31mNameError\u001b[0m: name 'k' is not defined"
     ]
    }
   ],
   "source": [
    "#Exo6 part 2\n",
    "def exo6bis (k):\n",
    "    s = np.array(range(k))*np.array(range(k))\n",
    "    return s\n",
    "exo6bis(k)"
   ]
  },
  {
   "cell_type": "code",
   "execution_count": 2,
   "metadata": {},
   "outputs": [
    {
     "name": "stderr",
     "output_type": "stream",
     "text": [
      "/anaconda3/lib/python3.6/site-packages/IPython/core/interactiveshell.py:2785: DtypeWarning: Columns (2,3,4,5,6,7) have mixed types. Specify dtype option on import or set low_memory=False.\n",
      "  interactivity=interactivity, compiler=compiler, result=result)\n",
      "/anaconda3/lib/python3.6/site-packages/ipykernel_launcher.py:14: SettingWithCopyWarning: \n",
      "A value is trying to be set on a copy of a slice from a DataFrame.\n",
      "Try using .loc[row_indexer,col_indexer] = value instead\n",
      "\n",
      "See the caveats in the documentation: http://pandas.pydata.org/pandas-docs/stable/indexing.html#indexing-view-versus-copy\n",
      "  \n"
     ]
    },
    {
     "data": {
      "text/html": [
       "<div>\n",
       "<style scoped>\n",
       "    .dataframe tbody tr th:only-of-type {\n",
       "        vertical-align: middle;\n",
       "    }\n",
       "\n",
       "    .dataframe tbody tr th {\n",
       "        vertical-align: top;\n",
       "    }\n",
       "\n",
       "    .dataframe thead th {\n",
       "        text-align: right;\n",
       "    }\n",
       "</style>\n",
       "<table border=\"1\" class=\"dataframe\">\n",
       "  <thead>\n",
       "    <tr style=\"text-align: right;\">\n",
       "      <th></th>\n",
       "      <th>Global_active_power</th>\n",
       "      <th>Sub_metering_1</th>\n",
       "    </tr>\n",
       "  </thead>\n",
       "  <tbody>\n",
       "    <tr>\n",
       "      <th>0</th>\n",
       "      <td>4.216</td>\n",
       "      <td>0.0</td>\n",
       "    </tr>\n",
       "    <tr>\n",
       "      <th>1</th>\n",
       "      <td>5.360</td>\n",
       "      <td>0.0</td>\n",
       "    </tr>\n",
       "    <tr>\n",
       "      <th>2</th>\n",
       "      <td>5.374</td>\n",
       "      <td>0.0</td>\n",
       "    </tr>\n",
       "    <tr>\n",
       "      <th>3</th>\n",
       "      <td>5.388</td>\n",
       "      <td>0.0</td>\n",
       "    </tr>\n",
       "    <tr>\n",
       "      <th>4</th>\n",
       "      <td>3.666</td>\n",
       "      <td>0.0</td>\n",
       "    </tr>\n",
       "  </tbody>\n",
       "</table>\n",
       "</div>"
      ],
      "text/plain": [
       "  Global_active_power  Sub_metering_1\n",
       "0               4.216             0.0\n",
       "1               5.360             0.0\n",
       "2               5.374             0.0\n",
       "3               5.388             0.0\n",
       "4               3.666             0.0"
      ]
     },
     "execution_count": 2,
     "metadata": {},
     "output_type": "execute_result"
    }
   ],
   "source": [
    "#Part 2 \n",
    "import pandas as pd\n",
    "import numpy as np\n",
    "import string\n",
    "\n",
    "link = '/Users/alexmartin/Downloads/household_power_consumption.txt'\n",
    "myfile = open(link)\n",
    "\n",
    "data = pd.read_csv(myfile, delimiter=';')\n",
    "df = pd.DataFrame(data)\n",
    "df1 = df.loc[df['Sub_metering_1']!= '?']\n",
    "df2 = df1[['Global_active_power','Sub_metering_1']]\n",
    "#df2['Sub_metering_1'] *= 0.06\n",
    "df2['Sub_metering_1'] = df2['Sub_metering_1'].apply(pd.to_numeric, errors='coerce')\n",
    "#df2['Sub_metering_1']*=0.06\n",
    "df2.head()"
   ]
  },
  {
   "cell_type": "code",
   "execution_count": 4,
   "metadata": {},
   "outputs": [
    {
     "ename": "SystemExit",
     "evalue": "1",
     "output_type": "error",
     "traceback": [
      "An exception has occurred, use %tb to see the full traceback.\n",
      "\u001b[0;31mSystemExit\u001b[0m\u001b[0;31m:\u001b[0m 1\n"
     ]
    },
    {
     "name": "stderr",
     "output_type": "stream",
     "text": [
      "/anaconda3/lib/python3.6/site-packages/IPython/core/interactiveshell.py:2971: UserWarning: To exit: use 'exit', 'quit', or Ctrl-D.\n",
      "  warn(\"To exit: use 'exit', 'quit', or Ctrl-D.\", stacklevel=1)\n"
     ]
    }
   ],
   "source": [
    "#!/usr/bin/python -tt\n",
    "# Copyright 2010 Google Inc.\n",
    "# Licensed under the Apache License, Version 2.0\n",
    "# http://www.apache.org/licenses/LICENSE-2.0\n",
    "\n",
    "# Google's Python Class\n",
    "# http://code.google.com/edu/languages/google-python-class/\n",
    "\n",
    "\"\"\"Wordcount exercise\n",
    "Google's Python class\n",
    "\n",
    "The main() below is already defined and complete. It calls print_words()\n",
    "and print_top() functions which you write.\n",
    "\n",
    "1. For the --count flag, implement a print_words(filename) function that counts\n",
    "how often each word appears in the text and prints:\n",
    "word1 count1\n",
    "word2 count2\n",
    "...\n",
    "\n",
    "Print the above list in order sorted by word (python will sort punctuation to\n",
    "come before letters -- that's fine). Store all the words as lowercase,\n",
    "so 'The' and 'the' count as the same word.\n",
    "\n",
    "2. For the --topcount flag, implement a print_top(filename) which is similar\n",
    "to print_words() but which prints just the top 20 most common words sorted\n",
    "so the most common word is first, then the next most common, and so on.\n",
    "\n",
    "Use str.split() (no arguments) to split on all whitespace.\n",
    "\n",
    "Workflow: don't build the whole program at once. Get it to an intermediate\n",
    "milestone and print your data structure and sys.exit(0).\n",
    "When that's working, try for the next milestone.\n",
    "\n",
    "Optional: define a helper function to avoid code duplication inside\n",
    "print_words() and print_top().\n",
    "\n",
    "\"\"\"\n",
    "\n",
    "import sys\n",
    "\n",
    "# +++your code here+++\n",
    "def print_words(filename):\n",
    "    lowercase = filename.lower()\n",
    "    wordlist = lowercase.split(' ')\n",
    "    d = {}\n",
    "    for word in wordlist:\n",
    "        if word not in d:\n",
    "            d[word] = word\n",
    "        d[word] += 1\n",
    "    return d \n",
    "\n",
    "def print_top(filename):\n",
    "    d = print_words(filename)\n",
    "    return d[19]\n",
    "\n",
    "    \n",
    "# Define print_words(filename) and print_top(filename) functions.\n",
    "# You could write a helper utility function that reads a file\n",
    "# and builds and returns a word/count dict for it.\n",
    "# Then print_words() and print_top() can just call the utility function.\n",
    "\n",
    "###\n",
    "\n",
    "# This basic command line argument parsing code is provided and\n",
    "# calls the print_words() and print_top() functions which you must define.\n",
    "def main():\n",
    "    if len(sys.argv) != 3:\n",
    "        print ('usage: ./wordcount.py {--count | --topcount} file')\n",
    "    sys.exit(1)\n",
    "\n",
    "    option = sys.argv[1]\n",
    "    filename = sys.argv[2]\n",
    "    if option == '--count':\n",
    "        print_words(filename)\n",
    "    elif option == '--topcount':\n",
    "        print_top(filename)\n",
    "    else:\n",
    "        print ('unknown option: ') + option\n",
    "    sys.exit(1)\n",
    "\n",
    "if __name__ == '__main__':\n",
    "    main()\n"
   ]
  },
  {
   "cell_type": "code",
   "execution_count": null,
   "metadata": {},
   "outputs": [],
   "source": []
  }
 ],
 "metadata": {
  "kernelspec": {
   "display_name": "Python 3",
   "language": "python",
   "name": "python3"
  },
  "language_info": {
   "codemirror_mode": {
    "name": "ipython",
    "version": 3
   },
   "file_extension": ".py",
   "mimetype": "text/x-python",
   "name": "python",
   "nbconvert_exporter": "python",
   "pygments_lexer": "ipython3",
   "version": "3.6.5"
  }
 },
 "nbformat": 4,
 "nbformat_minor": 2
}
